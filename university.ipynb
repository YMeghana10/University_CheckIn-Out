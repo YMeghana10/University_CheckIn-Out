{
  "nbformat": 4,
  "nbformat_minor": 0,
  "metadata": {
    "colab": {
      "provenance": [],
      "authorship_tag": "ABX9TyM4So58PGq4sT8alxMu/QnK",
      "include_colab_link": true
    },
    "kernelspec": {
      "name": "python3",
      "display_name": "Python 3"
    },
    "language_info": {
      "name": "python"
    }
  },
  "cells": [
    {
      "cell_type": "markdown",
      "metadata": {
        "id": "view-in-github",
        "colab_type": "text"
      },
      "source": [
        "<a href=\"https://colab.research.google.com/github/YMeghana10/University_CheckIn-Out/blob/main/university.ipynb\" target=\"_parent\"><img src=\"https://colab.research.google.com/assets/colab-badge.svg\" alt=\"Open In Colab\"/></a>"
      ]
    },
    {
      "cell_type": "code",
      "execution_count": 1,
      "metadata": {
        "colab": {
          "base_uri": "https://localhost:8080/"
        },
        "id": "pqYr7BPWXxvX",
        "outputId": "3e1dd1af-85ca-4960-b733-94503c99e31f"
      },
      "outputs": [
        {
          "output_type": "stream",
          "name": "stdout",
          "text": [
            "Enter Student ID: 1\n",
            "Enter Student Name: b\n",
            "\n",
            "Options:\n",
            "1. Check-In\n",
            "2. Check-Out\n",
            "3. View Attendance History\n",
            "4. Exit\n",
            "Enter your choice: 1\n",
            "Enter check-in method (QR Code, Manual Entry, etc.): QRcode\n",
            "Enter check-in time (YYYY-MM-DD HH:MM:SS): 2025-03-20 07:45:03\n",
            "b checked in at 2025-03-20 07:45:03 using QRcode.\n",
            "\n",
            "Options:\n",
            "1. Check-In\n",
            "2. Check-Out\n",
            "3. View Attendance History\n",
            "4. Exit\n",
            "Enter your choice: 4\n",
            "Exiting program...\n"
          ]
        }
      ],
      "source": [
        "import datetime\n",
        "\n",
        "class Student:\n",
        "    def __init__(self, student_id, name):\n",
        "        self.student_id = student_id\n",
        "        self.name = name\n",
        "        self.checked_in = False\n",
        "        self.history = []\n",
        "\n",
        "    def check_in(self, method, check_in_time):\n",
        "        if not self.checked_in:\n",
        "            self.checked_in = True\n",
        "            self.history.append({\"check-in\": check_in_time, \"method\": method})\n",
        "            print(f\"{self.name} checked in at {check_in_time} using {method}.\")\n",
        "        else:\n",
        "            print(f\"{self.name} is already checked in.\")\n",
        "\n",
        "    def check_out(self, check_out_time):\n",
        "        if self.checked_in:\n",
        "            self.checked_in = False\n",
        "            self.history[-1][\"check-out\"] = check_out_time\n",
        "            print(f\"{self.name} checked out at {check_out_time}.\")\n",
        "        else:\n",
        "            print(f\"{self.name} is not checked in.\")\n",
        "\n",
        "    def view_attendance(self):\n",
        "        print(f\"\\nAttendance history for {self.name}:\")\n",
        "        for record in self.history:\n",
        "            print(record)\n",
        "\n",
        "# Manual Input for Student Information\n",
        "student_id = input(\"Enter Student ID: \")\n",
        "student_name = input(\"Enter Student Name: \")\n",
        "\n",
        "# Create Student Object\n",
        "student = Student(student_id, student_name)\n",
        "\n",
        "while True:\n",
        "    print(\"\\nOptions:\")\n",
        "    print(\"1. Check-In\")\n",
        "    print(\"2. Check-Out\")\n",
        "    print(\"3. View Attendance History\")\n",
        "    print(\"4. Exit\")\n",
        "\n",
        "    choice = input(\"Enter your choice: \")\n",
        "\n",
        "    if choice == \"1\":\n",
        "        method = input(\"Enter check-in method (QR Code, Manual Entry, etc.): \")\n",
        "        check_in_time = input(\"Enter check-in time (YYYY-MM-DD HH:MM:SS): \")\n",
        "        student.check_in(method, check_in_time)\n",
        "    elif choice == \"2\":\n",
        "        check_out_time = input(\"Enter check-out time (YYYY-MM-DD HH:MM:SS): \")\n",
        "        student.check_out(check_out_time)\n",
        "    elif choice == \"3\":\n",
        "        student.view_attendance()\n",
        "    elif choice == \"4\":\n",
        "        print(\"Exiting program...\")\n",
        "        break\n",
        "    else:\n",
        "        print(\"Invalid choice, please try again!\")\n"
      ]
    }
  ]
}